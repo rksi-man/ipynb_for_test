{
  "nbformat": 4,
  "nbformat_minor": 0,
  "metadata": {
    "colab": {
      "provenance": []
    },
    "kernelspec": {
      "name": "python3",
      "display_name": "Python 3"
    },
    "language_info": {
      "name": "python"
    }
  },
  "cells": [
    {
      "cell_type": "markdown",
      "source": [
        "\n",
        "#<center> 🙋 Вам необходимо выполнить задания, расположенные ниже</center>\n",
        "#❗Немного о правилах:\n",
        "\n",
        "\n",
        "1. Для начала работы Вам следует скопировать блокнот себе на Google Drive: Файл -> Сохранить копию на Диске. Произойдёт открытие новой вкладки с названием блокнота вида: \"Копия блокнота ...\". Вместо \"Копия блокнота\" необходимо указать фамилию и группу.\n",
        "2.   *Нельзя **удалять** ячейки текста и кода, тогда мы не сможем автоматически проверить Вашу работу*\n",
        "3.   *Область, где Вам необходимо написать код, расположена под каждым заданием в виде кодовой ячейки с указателем комментария # Код начинается здесь ...*\n",
        "4. Начинайте писать код, не удаляя надпись **# Код начинается здесь ...** на следующей строке\n",
        "\n",
        "\n",
        "\n",
        "![Без имени.png](data:image/png;base64,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)\n",
        "\n",
        "5. *После написания и отладки Вашего решения убедитесь, что отобразились результаты работы, например ...*\n",
        "\n",
        "![image.png](data:image/png;base64,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)\n"
      ],
      "metadata": {
        "id": "pARFvsQIMfYI"
      }
    },
    {
      "cell_type": "markdown",
      "source": [
        "\n",
        "\n",
        "---\n",
        "\n",
        "\n"
      ],
      "metadata": {
        "id": "i-sadAtPVV5p"
      }
    },
    {
      "cell_type": "markdown",
      "source": [
        "# Задание №1\n",
        "Выведите на экран значение для ключа \"model\" словаря \"car\"."
      ],
      "metadata": {
        "id": "1sslXBVL8Nmv"
      }
    },
    {
      "cell_type": "code",
      "source": [
        "car = {\n",
        "  \"brand\": \"Ford\",\n",
        "  \"model\": \"Mustang\",\n",
        "  \"year\": 1964\n",
        "}\n",
        "# Код начинается здесь ...\n",
        "print(car['model'])"
      ],
      "metadata": {
        "id": "SvzsB4yC8Rmw",
        "colab": {
          "base_uri": "https://localhost:8080/"
        },
        "outputId": "1255c747-5349-4a78-d6e3-7989d6f52f6a"
      },
      "execution_count": null,
      "outputs": [
        {
          "output_type": "stream",
          "name": "stdout",
          "text": [
            "Mustang\n"
          ]
        }
      ]
    },
    {
      "cell_type": "markdown",
      "source": [
        "# Задание №2\n",
        "Замените в словаре значение года на 2019 и выведите словарь на экран"
      ],
      "metadata": {
        "id": "IwFmMxx_8fbf"
      }
    },
    {
      "cell_type": "code",
      "source": [
        "car = {\n",
        "  \"brand\": \"Ford\",\n",
        "  \"model\": \"Mustang\",\n",
        "  \"year\": 1964\n",
        "}\n",
        "# Код начинается здесь ...\n",
        "car['year'] = 2019\n",
        "car"
      ],
      "metadata": {
        "id": "clBoMiZ78i7d",
        "colab": {
          "base_uri": "https://localhost:8080/"
        },
        "outputId": "f5119b7a-7728-4f75-d5f3-7621851b5ba5"
      },
      "execution_count": null,
      "outputs": [
        {
          "output_type": "execute_result",
          "data": {
            "text/plain": [
              "{'brand': 'Ford', 'model': 'Mustang', 'year': 2019}"
            ]
          },
          "metadata": {},
          "execution_count": 3
        }
      ]
    },
    {
      "cell_type": "markdown",
      "source": [
        "# Задание №3\n",
        "Удалите элемент модели из словаря и выведите словарь на экран"
      ],
      "metadata": {
        "id": "7qe33gnL8z-O"
      }
    },
    {
      "cell_type": "code",
      "source": [
        "car = {\n",
        "  \"brand\": \"Ford\",\n",
        "  \"model\": \"Mustang\",\n",
        "  \"year\": 1964\n",
        "}\n",
        "# Код начинается здесь ...\n",
        "car.popitem()\n",
        "car"
      ],
      "metadata": {
        "id": "RQD4tK3S824M",
        "colab": {
          "base_uri": "https://localhost:8080/"
        },
        "outputId": "f7d5f283-6216-48e0-ffa0-2c409ab6c5f8"
      },
      "execution_count": null,
      "outputs": [
        {
          "output_type": "execute_result",
          "data": {
            "text/plain": [
              "{'brand': 'Ford', 'model': 'Mustang'}"
            ]
          },
          "metadata": {},
          "execution_count": 5
        }
      ]
    },
    {
      "cell_type": "markdown",
      "source": [
        "# Задание №4\n",
        "Добавьте элемент в словарь с ключом \"color\" и значением \"red\" и выведите словарь на экран"
      ],
      "metadata": {
        "id": "DViM0bMk9NZI"
      }
    },
    {
      "cell_type": "code",
      "source": [
        "car = {\n",
        "  \"brand\": \"Ford\",\n",
        "  \"model\": \"Mustang\",\n",
        "  \"year\": 1964\n",
        "}\n",
        "# Код начинается здесь ...\n",
        "car['color'] = 'red'\n",
        "car"
      ],
      "metadata": {
        "id": "4l9oHfnc9T_B",
        "colab": {
          "base_uri": "https://localhost:8080/"
        },
        "outputId": "9a92808e-f1a8-4493-c242-72c1e807e469"
      },
      "execution_count": null,
      "outputs": [
        {
          "output_type": "execute_result",
          "data": {
            "text/plain": [
              "{'brand': 'Ford', 'model': 'Mustang', 'year': 1964, 'color': 'red'}"
            ]
          },
          "metadata": {},
          "execution_count": 7
        }
      ]
    },
    {
      "cell_type": "markdown",
      "source": [
        "# Задание №5\n",
        "Напишите программу, которая запрашивает с ввода восемь чисел, добавляет их в список. <br>На экран выводит их сумму, максимальное и минимальное из них. <br> Для нахождения суммы, максимума и минимума воспользуйтесь встроенными в Python функциями sum(), max() и min().\n",
        "\n",
        "\n"
      ],
      "metadata": {
        "id": "j0YYGQHJMWIb"
      }
    },
    {
      "cell_type": "code",
      "execution_count": null,
      "metadata": {
        "id": "zR4i8j38MQwT",
        "colab": {
          "base_uri": "https://localhost:8080/"
        },
        "outputId": "d488daec-48da-4384-dccc-688184014c3a"
      },
      "outputs": [
        {
          "output_type": "stream",
          "name": "stdout",
          "text": [
            "Введите, пожалуста, 8 чисел:1\n",
            "Введите, пожалуста, 8 чисел:2\n",
            "Введите, пожалуста, 8 чисел:3\n",
            "Введите, пожалуста, 8 чисел:\n",
            "Введите, пожалуста, 8 чисел:5\n",
            "Введите, пожалуста, 8 чисел:\n",
            "Введите, пожалуста, 8 чисел:\n",
            "Введите, пожалуста, 8 чисел:\n",
            "(28, 7, 0)\n"
          ]
        }
      ],
      "source": [
        "# Код начинается здесь ...\n",
        "k = []456788\n",
        "\n",
        "def sum_max_min():\n",
        "  for i in range(8):\n",
        "    input('Введите, пожалуста, 8 чисел:')\n",
        "    k.append(i)\n",
        "  return sum(k), max(k), min(k)\n",
        "\n",
        "print(sum_max_min())\n",
        "\n",
        "\n"
      ]
    },
    {
      "cell_type": "markdown",
      "source": [
        "# Задание №6\n",
        "В заданном списке, состоящем из положительных и отрицательных чисел, посчитайте количество отрицательных элементов. Выведите результат на экран.\n",
        "```\n",
        "a = [-1, 3, 9, -6, 12, 3, 0, -18, 4]\n",
        "```\n",
        "\n",
        "\n",
        "\n"
      ],
      "metadata": {
        "id": "QSLetzxnSG90"
      }
    },
    {
      "cell_type": "code",
      "source": [
        "# Код начинается здесь ...\n",
        "a = [-1, 3, 9, -6, 12, 3, 0, -18, 4]\n",
        "count = 1\n",
        "\n",
        "for i in a:\n",
        "  if i < 0:\n",
        "    count += 1\n",
        "\n",
        "print(count)\n"
      ],
      "metadata": {
        "id": "nmB4zoHYSIXZ"
      },
      "execution_count": null,
      "outputs": []
    },
    {
      "cell_type": "markdown",
      "source": [
        "# Задание №7\n",
        "Напишите программу, которая генерирует сто случайных целочисленных значений в диапазоне от 1 до 200 и заполняет ими список.\n",
        "Выводит получившийся список на экран по десять элементов в ряд.\n",
        "Далее сортирует список с помощью метода sort() и снова выводит его на экран по десять элементов в строке, также необходимо избавиться от повторяющихся значений. Для вывода списка напишите отдельную функцию, в качестве аргумента она должна принимать список.\n",
        "\n",
        "\n",
        "\n"
      ],
      "metadata": {
        "id": "5RFtxOHlTfmr"
      }
    },
    {
      "cell_type": "code",
      "source": [
        "# Код начинается здесь ...\n",
        "import random\n",
        "\n",
        "nums = []\n",
        "\n",
        "for _ in range(100):\n",
        "  nums.append(\n",
        "      random.randint(1, 200)\n",
        "  )\n",
        "\n",
        "def print_list(list_n):\n",
        "  for i in range(0, len(list_n), 10):\n",
        "    print(list_n[i:i+10])\n",
        "\n",
        "sorted_unique_nums = list(set(nums))\n",
        "sorted_unique_nums.sort()\n",
        "print_list(sorted_unique_nums)"
      ],
      "metadata": {
        "id": "_JItybZaT3AD",
        "colab": {
          "base_uri": "https://localhost:8080/"
        },
        "outputId": "5cf0b83c-92bc-47a2-ecaa-8fb8b8b818cd"
      },
      "execution_count": null,
      "outputs": [
        {
          "output_type": "stream",
          "name": "stdout",
          "text": [
            "[2, 6, 7, 10, 13, 20, 21, 24, 25, 26]\n",
            "[27, 28, 31, 33, 40, 43, 44, 46, 48, 51]\n",
            "[52, 54, 55, 60, 65, 67, 69, 72, 75, 78]\n",
            "[79, 87, 88, 89, 90, 94, 96, 99, 100, 103]\n",
            "[108, 109, 113, 116, 118, 119, 122, 123, 124, 125]\n",
            "[127, 128, 129, 130, 132, 134, 140, 145, 146, 148]\n",
            "[151, 152, 159, 162, 163, 164, 165, 166, 169, 170]\n",
            "[174, 176, 177, 178, 179, 180, 181, 183, 186, 188]\n",
            "[194, 197, 199]\n"
          ]
        }
      ]
    }
  ]
}